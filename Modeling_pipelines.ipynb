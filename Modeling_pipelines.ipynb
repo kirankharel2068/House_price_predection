{
 "cells": [
  {
   "cell_type": "markdown",
   "metadata": {},
   "source": [
    "### Modelling with Pip\n",
    "\n",
    "In this notebook the following models are used and best parameters using hyper Parameter tuning with GridSearchCV\n",
    "\n",
    "1. K-Nearest Neighbors"
   ]
  },
  {
   "cell_type": "code",
   "execution_count": 19,
   "metadata": {},
   "outputs": [],
   "source": [
    "import pandas as pd\n",
    "import numpy as np\n",
    "from sklearn.model_selection import train_test_split\n",
    "import datetime\n",
    "from sklearn.neighbors import KNeighborsRegressor\n",
    "from sklearn.model_selection import GridSearchCV\n",
    "from sklearn.model_selection import KFold\n",
    "from sklearn.pipeline import make_pipeline\n",
    "from sklearn.linear_model import RidgeCV\n",
    "from sklearn.linear_model import LassoCV\n",
    "from sklearn.linear_model import ElasticNetCV\n",
    "from sklearn.preprocessing import RobustScaler\n",
    "from sklearn.svm import SVR\n",
    "import matplotlib.pyplot as plt\n",
    "import seaborn as sns\n",
    "import utils"
   ]
  },
  {
   "cell_type": "code",
   "execution_count": 2,
   "metadata": {},
   "outputs": [],
   "source": [
    "df_train = pd.read_csv('dataset/df_train.csv')\n",
    "df_test = pd.read_csv('dataset/df_test.csv')"
   ]
  },
  {
   "cell_type": "code",
   "execution_count": 3,
   "metadata": {},
   "outputs": [],
   "source": [
    "target = df_train['SalePrice']\n",
    "df_train = df_train.drop(['SalePrice'], axis = 1)"
   ]
  },
  {
   "cell_type": "code",
   "execution_count": 4,
   "metadata": {},
   "outputs": [],
   "source": [
    "X_train, X_test, y_train, y_test = train_test_split(df_train, target, test_size = 0.25, random_state = 42)"
   ]
  },
  {
   "cell_type": "markdown",
   "metadata": {},
   "source": [
    "#### 1. Ridge Regression"
   ]
  },
  {
   "cell_type": "code",
   "execution_count": 5,
   "metadata": {},
   "outputs": [
    {
     "name": "stdout",
     "output_type": "stream",
     "text": [
      "############################################################\n",
      "Ridge: \n",
      " Pipeline(memory=None,\n",
      "         steps=[('robustscaler',\n",
      "                 RobustScaler(copy=True, quantile_range=(25.0, 75.0),\n",
      "                              with_centering=True, with_scaling=True)),\n",
      "                ('ridgecv',\n",
      "                 RidgeCV(alphas=array([14.5, 14.6, 14.7, 14.8, 14.9, 15. , 15.1, 15.2, 15.3, 15.4, 15.5,\n",
      "       15.6]),\n",
      "                         cv=KFold(n_splits=10, random_state=42, shuffle=True),\n",
      "                         fit_intercept=True, gcv_mode=None, normalize=False,\n",
      "                         scoring=None, store_cv_values=False))],\n",
      "         verbose=False) \n",
      "############################################################\n",
      "\n"
     ]
    }
   ],
   "source": [
    "kfolds = KFold(n_splits=10, shuffle=True, random_state=42)\n",
    "\n",
    "alphas_ridge = [\n",
    "    14.5,14.6,14.7,14.8,14.9,15, \n",
    "    15.1, 15.2, 15.3, 15.4, 15.5, 15.6\n",
    "]\n",
    "\n",
    "ridge = make_pipeline(RobustScaler(),\n",
    "                     RidgeCV(\n",
    "                         alphas = alphas_ridge,\n",
    "                         cv = kfolds\n",
    "                     ))\n",
    "\n",
    "print('############################################################\\nRidge: \\n', \n",
    "      ridge, \n",
    "      '\\n############################################################\\n')\n",
    "\n"
   ]
  },
  {
   "cell_type": "markdown",
   "metadata": {},
   "source": [
    "#### 2. Lasso Regression"
   ]
  },
  {
   "cell_type": "code",
   "execution_count": 6,
   "metadata": {},
   "outputs": [
    {
     "name": "stdout",
     "output_type": "stream",
     "text": [
      "############################################################\n",
      "Lasso: \n",
      " Pipeline(memory=None,\n",
      "         steps=[('robustscaler',\n",
      "                 RobustScaler(copy=True, quantile_range=(25.0, 75.0),\n",
      "                              with_centering=True, with_scaling=True)),\n",
      "                ('lassocv',\n",
      "                 LassoCV(alphas=[5e-05, 0.0001, 0.0002, 0.0003, 0.0004, 0.0005,\n",
      "                                 0.0006, 0.0007],\n",
      "                         copy_X=True,\n",
      "                         cv=KFold(n_splits=10, random_state=42, shuffle=True),\n",
      "                         eps=0.001, fit_intercept=True, max_iter=10000000.0,\n",
      "                         n_alphas=100, n_jobs=None, normalize=False,\n",
      "                         positive=False, precompute='auto', random_state=None,\n",
      "                         selection='cyclic', tol=0.0001, verbose=False))],\n",
      "         verbose=False) \n",
      "############################################################\n",
      "\n"
     ]
    }
   ],
   "source": [
    "alphas_lasso = [\n",
    "    5e-05, 0.0001, 0.0002, 0.0003, \n",
    "    0.0004, 0.0005, 0.0006, 0.0007\n",
    "]\n",
    "\n",
    "lasso = make_pipeline(\n",
    "        RobustScaler(),\n",
    "        LassoCV(\n",
    "            alphas = alphas_lasso,\n",
    "            max_iter = 1e7,\n",
    "            cv = kfolds\n",
    "        )\n",
    ")\n",
    "print('############################################################\\nLasso: \\n', \n",
    "      lasso,\n",
    "      '\\n############################################################\\n')"
   ]
  },
  {
   "cell_type": "markdown",
   "metadata": {},
   "source": [
    "#### 3. ElasticNetCV"
   ]
  },
  {
   "cell_type": "code",
   "execution_count": 7,
   "metadata": {},
   "outputs": [
    {
     "name": "stdout",
     "output_type": "stream",
     "text": [
      "############################################################\n",
      "Elastic: \n",
      " Pipeline(memory=None,\n",
      "         steps=[('robustscaler',\n",
      "                 RobustScaler(copy=True, quantile_range=(25.0, 75.0),\n",
      "                              with_centering=True, with_scaling=True)),\n",
      "                ('elasticnetcv',\n",
      "                 ElasticNetCV(alphas=[0.0001, 0.0002, 0.0003, 0.0004, 0.0005,\n",
      "                                      0.0006, 0.0007],\n",
      "                              copy_X=True,\n",
      "                              cv=KFold(n_splits=10, random_state=42, shuffle=True),\n",
      "                              eps=0.001, fit_intercept=True,\n",
      "                              l1_ratio=[0.8, 0.85, 0.9, 0.95, 0.99, 1],\n",
      "                              max_iter=10000000.0, n_alphas=100, n_jobs=None,\n",
      "                              normalize=False, positive=False,\n",
      "                              precompute='auto', random_state=None,\n",
      "                              selection='cyclic', tol=0.0001, verbose=0))],\n",
      "         verbose=False) \n",
      "############################################################\n",
      "\n"
     ]
    }
   ],
   "source": [
    "alphas_ela = [\n",
    "    0.0001, 0.0002, 0.0003, \n",
    "    0.0004, 0.0005, 0.0006, 0.0007\n",
    "]\n",
    "\n",
    "e_l1ratio = [0.8,0.85,0.9,0.95,0.99,1]\n",
    "\n",
    "elasticnet = make_pipeline(\n",
    "    RobustScaler(),\n",
    "    ElasticNetCV(\n",
    "        max_iter = 1e7,\n",
    "        alphas = alphas_ela,\n",
    "        cv = kfolds,\n",
    "        l1_ratio = e_l1ratio\n",
    "    )\n",
    ")\n",
    "\n",
    "print('############################################################\\nElastic: \\n',\n",
    "      elasticnet, \n",
    "      '\\n############################################################\\n')"
   ]
  },
  {
   "cell_type": "markdown",
   "metadata": {},
   "source": [
    "#### 4. Support Vector Machines"
   ]
  },
  {
   "cell_type": "code",
   "execution_count": 8,
   "metadata": {},
   "outputs": [
    {
     "name": "stderr",
     "output_type": "stream",
     "text": [
      "C:\\ProgramData\\Anaconda3\\lib\\site-packages\\sklearn\\model_selection\\_split.py:1978: FutureWarning: The default value of cv will change from 3 to 5 in version 0.22. Specify it explicitly to silence this warning.\n",
      "  warnings.warn(CV_WARNING, FutureWarning)\n"
     ]
    },
    {
     "name": "stdout",
     "output_type": "stream",
     "text": [
      "############################################################\n",
      "SVR: \n",
      " Pipeline(memory=None,\n",
      "         steps=[('robustscaler',\n",
      "                 RobustScaler(copy=True, quantile_range=(25.0, 75.0),\n",
      "                              with_centering=True, with_scaling=True)),\n",
      "                ('svr',\n",
      "                 SVR(C=120, cache_size=200, coef0=0.0, degree=3, epsilon=0.1,\n",
      "                     gamma=0.0003, kernel='rbf', max_iter=-1, shrinking=True,\n",
      "                     tol=0.001, verbose=False))],\n",
      "         verbose=False) \n",
      "############################################################\n",
      "\n"
     ]
    }
   ],
   "source": [
    "parameters = {\n",
    "    'C':[120],\n",
    "    'gamma':[0.0003]\n",
    "}\n",
    "\n",
    "svr_ = SVR()\n",
    "clf = GridSearchCV(svr_, parameters, verbose=0, iid=False)\n",
    "clf.fit(X_train, y_train)\n",
    "\n",
    "svr = make_pipeline(\n",
    "    RobustScaler(),\n",
    "    SVR(**clf.best_params_)\n",
    ")\n",
    "\n",
    "print('############################################################\\nSVR: \\n', \n",
    "      svr, \n",
    "      '\\n############################################################\\n')"
   ]
  },
  {
   "cell_type": "markdown",
   "metadata": {},
   "source": [
    "#### 5. K-Nearest Neighbor "
   ]
  },
  {
   "cell_type": "code",
   "execution_count": 9,
   "metadata": {},
   "outputs": [
    {
     "name": "stdout",
     "output_type": "stream",
     "text": [
      "####################################################\n",
      "05:00:54\tK-nearest neighbor\n"
     ]
    },
    {
     "name": "stderr",
     "output_type": "stream",
     "text": [
      "C:\\ProgramData\\Anaconda3\\lib\\site-packages\\sklearn\\model_selection\\_split.py:1978: FutureWarning: The default value of cv will change from 3 to 5 in version 0.22. Specify it explicitly to silence this warning.\n",
      "  warnings.warn(CV_WARNING, FutureWarning)\n"
     ]
    },
    {
     "name": "stdout",
     "output_type": "stream",
     "text": [
      "\n",
      "Regressor: \n",
      " Pipeline(memory=None,\n",
      "         steps=[('robustscaler',\n",
      "                 RobustScaler(copy=True, quantile_range=(25.0, 75.0),\n",
      "                              with_centering=True, with_scaling=True)),\n",
      "                ('kneighborsregressor',\n",
      "                 KNeighborsRegressor(algorithm='auto', leaf_size=2,\n",
      "                                     metric='manhattan', metric_params=None,\n",
      "                                     n_jobs=None, n_neighbors=5, p=2,\n",
      "                                     weights='distance'))],\n",
      "         verbose=False) \n",
      "\n",
      "05:00:58\tDone!\n",
      "####################################################\n"
     ]
    }
   ],
   "source": [
    "print('####################################################\\n{}\\tK-nearest neighbor'\n",
    "      .format(datetime.datetime.now().strftime('%H:%M:%S')))\n",
    "parameters = {\n",
    "    'algorithm': ['auto'],\n",
    "    'leaf_size':[2,3,5,7],\n",
    "    'weights':['uniform','distance'],\n",
    "    'n_neighbors':[5,10],\n",
    "    'metric':['euclidean','manhattan']\n",
    "}\n",
    "\n",
    "knn = KNeighborsRegressor()\n",
    "clf = GridSearchCV(knn, parameters, verbose=0, iid = False)\n",
    "clf.fit(X_train, y_train)\n",
    "\n",
    "knn = make_pipeline(\n",
    "    RobustScaler(),\n",
    "    KNeighborsRegressor(**clf.best_params_)\n",
    ")\n",
    "\n",
    "print('\\nRegressor: \\n', knn, '\\n')\n",
    "print('{}\\tDone!\\n####################################################'\n",
    "      .format(datetime.datetime.now().strftime('%H:%M:%S')))"
   ]
  },
  {
   "cell_type": "markdown",
   "metadata": {},
   "source": [
    "lets fit these models and see their performance."
   ]
  },
  {
   "cell_type": "code",
   "execution_count": 10,
   "metadata": {},
   "outputs": [
    {
     "name": "stdout",
     "output_type": "stream",
     "text": [
      "Fitting: \tRidge\n",
      "Done!\n",
      "Fitting: \tLasso\n",
      "Done!\n",
      "Fitting: \tElasticNet\n",
      "Done!\n",
      "Fitting: \tSVR\n",
      "Done!\n",
      "Fitting: \tKNN\n",
      "Done!\n",
      "=== Fitting Completed ! ====\n"
     ]
    }
   ],
   "source": [
    "models_pipe = {\n",
    "    'Ridge': ridge,\n",
    "    'Lasso': lasso,\n",
    "    'ElasticNet': elasticnet,\n",
    "    'SVR':svr,\n",
    "    'KNN': knn\n",
    "}\n",
    "\n",
    "df_metric1 = utils.fit_models(X_train, y_train, X_test, y_test,models_pipe)"
   ]
  },
  {
   "cell_type": "code",
   "execution_count": 12,
   "metadata": {},
   "outputs": [
    {
     "data": {
      "text/html": [
       "<div>\n",
       "<style scoped>\n",
       "    .dataframe tbody tr th:only-of-type {\n",
       "        vertical-align: middle;\n",
       "    }\n",
       "\n",
       "    .dataframe tbody tr th {\n",
       "        vertical-align: top;\n",
       "    }\n",
       "\n",
       "    .dataframe thead th {\n",
       "        text-align: right;\n",
       "    }\n",
       "</style>\n",
       "<table border=\"1\" class=\"dataframe\">\n",
       "  <thead>\n",
       "    <tr style=\"text-align: right;\">\n",
       "      <th></th>\n",
       "      <th>rmse</th>\n",
       "      <th>r2</th>\n",
       "    </tr>\n",
       "    <tr>\n",
       "      <th>model</th>\n",
       "      <th></th>\n",
       "      <th></th>\n",
       "    </tr>\n",
       "  </thead>\n",
       "  <tbody>\n",
       "    <tr>\n",
       "      <th>Ridge</th>\n",
       "      <td>0.114954</td>\n",
       "      <td>0.918734</td>\n",
       "    </tr>\n",
       "    <tr>\n",
       "      <th>Lasso</th>\n",
       "      <td>0.115899</td>\n",
       "      <td>0.917391</td>\n",
       "    </tr>\n",
       "    <tr>\n",
       "      <th>ElasticNet</th>\n",
       "      <td>0.115899</td>\n",
       "      <td>0.917391</td>\n",
       "    </tr>\n",
       "    <tr>\n",
       "      <th>SVR</th>\n",
       "      <td>0.113134</td>\n",
       "      <td>0.921286</td>\n",
       "    </tr>\n",
       "    <tr>\n",
       "      <th>KNN</th>\n",
       "      <td>0.170970</td>\n",
       "      <td>0.820236</td>\n",
       "    </tr>\n",
       "  </tbody>\n",
       "</table>\n",
       "</div>"
      ],
      "text/plain": [
       "                rmse        r2\n",
       "model                         \n",
       "Ridge       0.114954  0.918734\n",
       "Lasso       0.115899  0.917391\n",
       "ElasticNet  0.115899  0.917391\n",
       "SVR         0.113134  0.921286\n",
       "KNN         0.170970  0.820236"
      ]
     },
     "execution_count": 12,
     "metadata": {},
     "output_type": "execute_result"
    }
   ],
   "source": [
    "df_metric1 = df_metric1.set_index('model')\n",
    "df_metric1"
   ]
  },
  {
   "cell_type": "code",
   "execution_count": 32,
   "metadata": {},
   "outputs": [
    {
     "data": {
      "image/png": "[encoded data removed]",
      "text/plain": [
       "<Figure size 432x288 with 1 Axes>"
      ]
     },
     "metadata": {
      "needs_background": "light"
     },
     "output_type": "display_data"
    }
   ],
   "source": [
    "## plt.figure(figsize = (15,8))\n",
    "ax = sns.barplot(x=df_metric1.index, y=\"r2\", data=df_metric1)\n",
    "ax.set_title('Comparision of Models R2 Score')\n",
    "ax.set_xticklabels(ax.get_xticklabels(),rotation=65)\n",
    "plt.show()"
   ]
  },
  {
   "cell_type": "markdown",
   "metadata": {},
   "source": [
    "Support Vector Machine seems to perform well in this case. Lets try stacking the models now."
   ]
  },
  {
   "cell_type": "code",
   "execution_count": null,
   "metadata": {},
   "outputs": [],
   "source": []
  }
 ],
 "metadata": {
  "kernelspec": {
   "display_name": "Python 3",
   "language": "python",
   "name": "python3"
  },
  "language_info": {
   "codemirror_mode": {
    "name": "ipython",
    "version": 3
   },
   "file_extension": ".py",
   "mimetype": "text/x-python",
   "name": "python",
   "nbconvert_exporter": "python",
   "pygments_lexer": "ipython3",
   "version": "3.7.3"
  }
 },
 "nbformat": 4,
 "nbformat_minor": 2
}
